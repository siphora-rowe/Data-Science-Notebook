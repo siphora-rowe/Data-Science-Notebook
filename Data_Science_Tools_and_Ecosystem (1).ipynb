{
 "cells": [
  {
   "cell_type": "markdown",
   "id": "a378fb86",
   "metadata": {},
   "source": [
    "# Data Science Tools and Ecosystem"
   ]
  },
  {
   "cell_type": "markdown",
   "id": "10cbefa7",
   "metadata": {},
   "source": [
    "## Introduction\n",
    "In this notebook, we will explore various tools, languages, and libraries commonly used in the field of data science. We will also perform some basic arithmetic operations using Python."
   ]
  },
  {
   "cell_type": "markdown",
   "id": "0f874412",
   "metadata": {},
   "source": [
    "## Data Science Languages\n",
    "Some of the popular languages that Data Scientists use are:\n",
    "- Python\n",
    "- R\n",
    "- SQL\n",
    "- Julia"
   ]
  },
  {
   "cell_type": "markdown",
   "id": "46cd6d54",
   "metadata": {},
   "source": [
    "## Data Science Libraries\n",
    "Popular libraries used in data science include:\n",
    "- Pandas\n",
    "- NumPy\n",
    "- Matplotlib\n",
    "- Scikit-learn\n",
    "- TensorFlow"
   ]
  },
  {
   "cell_type": "markdown",
   "id": "c31da3d2",
   "metadata": {},
   "source": [
    "## Data Science Tools\n",
    "\n",
    "| Tool           | Description                     |\n",
    "|----------------|---------------------------------|\n",
    "| Jupyter Notebook | Interactive computing environment |\n",
    "| RStudio        | IDE for R programming           |\n",
    "| Apache Spark   | Big data processing framework   |"
   ]
  },
  {
   "cell_type": "markdown",
   "id": "f062ca52",
   "metadata": {},
   "source": [
    "## Examples of Arithmetic Expressions\n",
    "Below are examples of simple arithmetic expressions like addition and multiplication."
   ]
  },
  {
   "cell_type": "code",
   "execution_count": null,
   "id": "8655fc0b",
   "metadata": {},
   "outputs": [],
   "source": [
    "# Multiply and add numbers\n",
    "(3 * 4) + 5"
   ]
  },
  {
   "cell_type": "code",
   "execution_count": null,
   "id": "04fb1e7e",
   "metadata": {},
   "outputs": [],
   "source": [
    "# Convert minutes to hours\n",
    "minutes = 200\n",
    "hours = minutes / 60\n",
    "hours"
   ]
  },
  {
   "cell_type": "markdown",
   "id": "2b181f00",
   "metadata": {},
   "source": [
    "## Objectives\n",
    "In this notebook, we will:\n",
    "- List popular languages used in Data Science\n",
    "- Introduce common libraries and tools\n",
    "- Demonstrate simple arithmetic operations using Python\n",
    "- Convert minutes into hours using Python code"
   ]
  },
  {
   "cell_type": "markdown",
   "id": "bdfc45c2",
   "metadata": {},
   "source": [
    "## Author\n",
    "Siphora Mariee"
   ]
  },
  {
   "cell_type": "markdown",
   "id": "e774436f",
   "metadata": {},
   "source": [
    "## GitHub Sharing\n",
    "Notebook shared on GitHub: *[Insert your GitHub link here]*"
   ]
  },
  {
   "cell_type": "markdown",
   "id": "97bc6226",
   "metadata": {},
   "source": [
    "## Screenshot\n",
    "*Include a screenshot of the first page of this notebook as required.*"
   ]
  }
 ],
 "metadata": {},
 "nbformat": 4,
 "nbformat_minor": 5
}